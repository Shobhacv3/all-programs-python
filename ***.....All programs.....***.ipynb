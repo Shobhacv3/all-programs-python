{
 "cells": [
  {
   "cell_type": "code",
   "execution_count": 4,
   "id": "7382435c",
   "metadata": {},
   "outputs": [
    {
     "name": "stdout",
     "output_type": "stream",
     "text": [
      "enter comma separated elements:1,2,3,4\n",
      "3 "
     ]
    }
   ],
   "source": [
    "# program to find the peak element in one dimensional array\n",
    "def find_peak(l):\n",
    "    p=len(l)\n",
    "    temp=0\n",
    "    for i in range(p):\n",
    "        if i==0 or i==p-1:\n",
    "            if i==0:\n",
    "                if l[i]>l[i+1]:\n",
    "                    print(i,end=\" \")\n",
    "                    temp=1\n",
    "            else:\n",
    "                if l[i]>l[i-1]:\n",
    "                    print(i,end=\" \")\n",
    "                    temp=1\n",
    "        else:\n",
    "            if a[i-1]<a[i]>a[i+1]:\n",
    "                print(\"index of peak element\",i,end=\" \")\n",
    "                temp=1\n",
    "    if temp==0:\n",
    "        print(\"no element found\")\n",
    "            \n",
    "            \n",
    "a=[int(x)for x in input(\"enter comma separated elements:\").split(\",\")]\n",
    "find_peak(a)"
   ]
  },
  {
   "cell_type": "code",
   "execution_count": null,
   "id": "81decfdc",
   "metadata": {},
   "outputs": [],
   "source": [
    "#program for linear search\n",
    "a=[int(x) for x in input(\"enter space separated integers:\").split()]\n",
    "m=int(input(\"enter the element to find:\"))\n",
    "for i in range(len(a)):\n",
    "    if a[i]==m:\n",
    "        print(\"{} is found at {} index\".format(m,i))\n",
    "        break"
   ]
  },
  {
   "cell_type": "code",
   "execution_count": 5,
   "id": "50bcc712",
   "metadata": {},
   "outputs": [
    {
     "name": "stdout",
     "output_type": "stream",
     "text": [
      "enter comma separated integers:12,2,3,4\n",
      "enter the element you want to search:2\n",
      "[2, 3, 4, 12]\n",
      "element found at 0 index\n"
     ]
    }
   ],
   "source": [
    "#program for binary search using iiterative approach\n",
    "# for binary search the elements must be in sorted order\n",
    "def binary_search(a,m):\n",
    "    low=0\n",
    "    high=len(a)-1\n",
    "    while low<=high:\n",
    "        mid=(low+high)//2\n",
    "        if a[mid]==m:\n",
    "            return mid\n",
    "        elif a[mid]<m:\n",
    "            low=mid+1\n",
    "        else:\n",
    "            high=mid-1\n",
    "    return -1\n",
    "    \n",
    "    \n",
    "a=[int(x) for x in input(\"enter comma separated integers:\").split(\",\")]\n",
    "a=sorted(a)\n",
    "m=int(input(\"enter the element you want to search:\"))\n",
    "res=binary_search(a,m)\n",
    "print(a)\n",
    "if res==-1:\n",
    "    print(\"element does not exists\")\n",
    "else:\n",
    "    print(\"element found at {} index\".format(res))"
   ]
  },
  {
   "cell_type": "code",
   "execution_count": 6,
   "id": "c00f00d2",
   "metadata": {},
   "outputs": [
    {
     "name": "stdout",
     "output_type": "stream",
     "text": [
      "23,1,2,4\n",
      "[1, 2, 4, 23]\n"
     ]
    }
   ],
   "source": [
    "#program for bubble sort\n",
    "a=list(map(int,input().split(\",\")))\n",
    "l=len(a)\n",
    "for i in range(l):\n",
    "    swaped=False\n",
    "    for j in range(l-i-1):\n",
    "               if a[j]>a[j+1]:\n",
    "                   a[j],a[j+1]=a[j+1],a[j]\n",
    "                   swaped=True\n",
    "    if swaped==False:\n",
    "               break\n",
    "print(a)"
   ]
  },
  {
   "cell_type": "code",
   "execution_count": 7,
   "id": "a8282d70",
   "metadata": {},
   "outputs": [
    {
     "name": "stdout",
     "output_type": "stream",
     "text": [
      "12,45,23,2,1,3\n",
      "[1, 2, 3, 12, 23, 45]\n"
     ]
    }
   ],
   "source": [
    "#program for insertion sort\n",
    "a=[int(x)for x in input().split(\",\")]\n",
    "l=len(a)\n",
    "for i in range(1,l):\n",
    "    j=i-1\n",
    "    cur=a[i]\n",
    "    while j>=0 and a[j]>cur:\n",
    "        a[j+1]=a[j]\n",
    "        j=j-1 \n",
    "    a[j+1]=cur\n",
    "print(a)"
   ]
  },
  {
   "cell_type": "code",
   "execution_count": 8,
   "id": "240f2043",
   "metadata": {},
   "outputs": [
    {
     "name": "stdout",
     "output_type": "stream",
     "text": [
      "1,2,3,4,12,3,1\n",
      "[1, 2, 3, 4, 12]\n"
     ]
    }
   ],
   "source": [
    "# program to remove duplicate elements\n",
    "a=[int(x) for x in input().split(\",\")]\n",
    "b=set(a)\n",
    "r=sorted(list(b))\n",
    "print(r)"
   ]
  },
  {
   "cell_type": "code",
   "execution_count": 10,
   "id": "6fb79c40",
   "metadata": {},
   "outputs": [
    {
     "name": "stdout",
     "output_type": "stream",
     "text": [
      "enter the size of list:2\n",
      "1\n",
      "1\n",
      "1\n",
      "1\n",
      "2\n"
     ]
    }
   ],
   "source": [
    "#program for dot product\n",
    "n=int(input(\"enter the size of list:\"))\n",
    "l=[]\n",
    "m=[]\n",
    "for i in range(n):\n",
    "    x=int(input())\n",
    "    l.append(x)\n",
    "for i in range(n):\n",
    "    p=int(input())\n",
    "    m.append(p)\n",
    "res=0\n",
    "for i in range(n):\n",
    "    t=l[i]*m[-(i+1)]\n",
    "    res=res+t\n",
    "print(res)"
   ]
  },
  {
   "cell_type": "code",
   "execution_count": 11,
   "id": "9ac1af39",
   "metadata": {},
   "outputs": [
    {
     "name": "stdout",
     "output_type": "stream",
     "text": [
      "enter list of elements:1,2,3,4,5\n",
      "55\n"
     ]
    }
   ],
   "source": [
    "#positive product of numbers\n",
    "l=[int(x)for x in input('enter list of elements:').split(\",\")]\n",
    "l.sort()\n",
    "res=0\n",
    "for i in l:\n",
    "    if i<0:\n",
    "        t=abs(i)\n",
    "        res=res+i*i\n",
    "    else:\n",
    "        res=res+i*i\n",
    "print(res)"
   ]
  },
  {
   "cell_type": "code",
   "execution_count": 12,
   "id": "d4321a7b",
   "metadata": {},
   "outputs": [
    {
     "name": "stdout",
     "output_type": "stream",
     "text": [
      "23,4,5,6,12,4\n",
      "[4, 4, 5, 6, 12, 23]\n"
     ]
    }
   ],
   "source": [
    "#program for selection sort\n",
    "l=[int(x)for x in input().split(\",\")]\n",
    "for i in range(len(l)):\n",
    "    min=i\n",
    "    for j in range(i+1,len(l)):\n",
    "        if l[j]<l[min]:\n",
    "            min=j\n",
    "    l[min],l[i]=l[i],l[min]\n",
    "print(l)"
   ]
  },
  {
   "cell_type": "code",
   "execution_count": 15,
   "id": "7c61fe00",
   "metadata": {},
   "outputs": [
    {
     "name": "stdout",
     "output_type": "stream",
     "text": [
      "40 35 10 15 25 26 30 430 431 \n",
      "35 10 15 25 26 30 430 431 "
     ]
    }
   ],
   "source": [
    "#program for linkedlist\n",
    "class Node:\n",
    "    def __init__(self,data):\n",
    "        self.data=data\n",
    "        self.next=None\n",
    "        \n",
    "class Linkedlist:\n",
    "    def __init__(self):\n",
    "        self.head=None\n",
    "    def insert_start(self,data):\n",
    "        newnode=Node(data)\n",
    "        newnode.next=self.head\n",
    "        self.head=newnode\n",
    "    def print_details(self):\n",
    "        temp=self.head\n",
    "        while temp is not None:\n",
    "            print(temp.data,end=\" \")\n",
    "            temp=temp.next\n",
    "    def insert_last(self,data):\n",
    "        newnode=Node(data)\n",
    "        if self.head is None:\n",
    "            self.head=newnode\n",
    "        else:\n",
    "            temp=self.head\n",
    "            while temp.next is not None:\n",
    "                temp=temp.next\n",
    "            temp.next=newnode\n",
    "    def insert_after(self,data,x):\n",
    "        temp=self.head\n",
    "        while temp is not None:\n",
    "            if x==temp.data:\n",
    "                break\n",
    "            temp=temp.next\n",
    "        if temp is None:\n",
    "            print(\"Node is not present in the Linkedlist\")\n",
    "        else:\n",
    "            newnode=Node(data)\n",
    "            newnode.next=temp.next\n",
    "            temp.next=newnode\n",
    "    def delete_start(self):\n",
    "        if self.head is None:\n",
    "            print(\"no elements to delete\")\n",
    "        else:\n",
    "            self.head=self.head.next\n",
    "    def delete_end(self):\n",
    "        if self.head is None:\n",
    "            print(\"no nodes to delete\")\n",
    "        else:\n",
    "            temp=self.head\n",
    "            while temp.next.next is not None:\n",
    "                temp=temp.next\n",
    "            temp.next=None\n",
    "            \n",
    "ll=Linkedlist()\n",
    "ll.insert_start(25)\n",
    "ll.insert_after(26,25)\n",
    "ll.insert_start(10)\n",
    "ll.insert_last(30)\n",
    "ll.insert_start(35)\n",
    "ll.insert_start(40)\n",
    "ll.insert_last(430)\n",
    "ll.insert_after(15,10)\n",
    "ll.insert_after(431,430)\n",
    "ll.print_details()\n",
    "ll.delete_start()\n",
    "print()\n",
    "ll.print_details()\n",
    "            "
   ]
  },
  {
   "cell_type": "code",
   "execution_count": 5,
   "id": "2960a8c0",
   "metadata": {},
   "outputs": [
    {
     "name": "stdout",
     "output_type": "stream",
     "text": [
      "enter a number:23\n",
      "The value you have guessed is too small\n",
      "enter a number:24\n",
      "Congrats! you guessed correctly\n"
     ]
    }
   ],
   "source": [
    "#NUMBER GUESS**\n",
    "class Error(Exception):\n",
    "    \"\"\"Exception is the base of all the other exceptions..\n",
    "    Error is our userdefined class...it acts as a base class for other exceptions \"\"\"\n",
    "    \n",
    "    pass\n",
    "class ValueLessError(Error):\n",
    "    \"\"\"Raised when the entered value is smaller\"\"\"\n",
    "    pass\n",
    "class ValueMoreError(Error):\n",
    "    \"\"\"Raised when the value is large\"\"\"\n",
    "    pass\n",
    "number=24\n",
    "while True:\n",
    "    try:\n",
    "        p=int(input(\"enter a number:\"))\n",
    "        if p<number:\n",
    "            raise ValueLessError\n",
    "        elif p>number:\n",
    "            raise ValueMoreError\n",
    "        break\n",
    "    except ValueLessError:\n",
    "        print(\"The value you have guessed is too small\")\n",
    "    except ValueMoreError:\n",
    "        print(\"The Value you have guessed is too large\")\n",
    "print(\"Congrats! you guessed correctly\")"
   ]
  },
  {
   "cell_type": "code",
   "execution_count": 6,
   "id": "c468984d",
   "metadata": {},
   "outputs": [
    {
     "name": "stdout",
     "output_type": "stream",
     "text": [
      "element at first index:2\n",
      "index out of range\n"
     ]
    }
   ],
   "source": [
    "a=[1,2,3]\n",
    "try:\n",
    "    print(\"element at first index:{}\".format(a[1]))\n",
    "    print(\"element at fourth index:{}\".format(a[3]))\n",
    "except IndexError:\n",
    "    print(\"index out of range\")"
   ]
  },
  {
   "cell_type": "code",
   "execution_count": 11,
   "id": "14684dcb",
   "metadata": {},
   "outputs": [
    {
     "name": "stdout",
     "output_type": "stream",
     "text": [
      "hello\n",
      "None\n",
      "shobha\n",
      "21\n"
     ]
    }
   ],
   "source": [
    "#****OOP***\n",
    "class person:\n",
    "    def __init__(self,name,age):\n",
    "        self.name=name\n",
    "        self.age=age\n",
    "    def demo(self):\n",
    "        print(\"hello\")\n",
    "\n",
    "p1=person(\"shobha\",21)\n",
    "p2=person(\"cvs\",22)\n",
    "print(p2.demo())\n",
    "print(p1.name)\n",
    "print(p1.age)"
   ]
  },
  {
   "cell_type": "code",
   "execution_count": 14,
   "id": "0929ecaf",
   "metadata": {},
   "outputs": [
    {
     "name": "stdout",
     "output_type": "stream",
     "text": [
      "peacock sings\n",
      "peacock is dancing now\n"
     ]
    }
   ],
   "source": [
    "class bird:\n",
    "    def __init__(self,name):\n",
    "        self.name=name\n",
    "        \n",
    "    def sing(self):\n",
    "        return \"{} sings\".format(self.name)\n",
    "    def dance(self):\n",
    "        return \"{} is dancing now\".format(self.name)\n",
    "b=bird(\"peacock\")\n",
    "print(b.sing())\n",
    "print(b.dance())"
   ]
  },
  {
   "cell_type": "code",
   "execution_count": null,
   "id": "9bfd11c8",
   "metadata": {},
   "outputs": [
    {
     "name": "stdout",
     "output_type": "stream",
     "text": [
      "******Stack operations********\n",
      "1.Push\n",
      "2.pop\n",
      "3.peek\n",
      "4.size\n",
      "5.display\n",
      "6.quit\n",
      "enter your choice:1\n",
      "enter element:10\n",
      "******Stack operations********\n",
      "1.Push\n",
      "2.pop\n",
      "3.peek\n",
      "4.size\n",
      "5.display\n",
      "6.quit\n",
      "enter your choice:1\n",
      "enter element:20\n",
      "******Stack operations********\n",
      "1.Push\n",
      "2.pop\n",
      "3.peek\n",
      "4.size\n",
      "5.display\n",
      "6.quit\n",
      "enter your choice:5\n",
      "[10, 20]\n",
      "******Stack operations********\n",
      "1.Push\n",
      "2.pop\n",
      "3.peek\n",
      "4.size\n",
      "5.display\n",
      "6.quit\n",
      "enter your choice:3\n",
      "element at peek= 20\n",
      "******Stack operations********\n",
      "1.Push\n",
      "2.pop\n",
      "3.peek\n",
      "4.size\n",
      "5.display\n",
      "6.quit\n",
      "enter your choice:2\n",
      "element poped= 20\n",
      "******Stack operations********\n",
      "1.Push\n",
      "2.pop\n",
      "3.peek\n",
      "4.size\n",
      "5.display\n",
      "6.quit\n",
      "enter your choice:2\n",
      "element poped= 10\n",
      "******Stack operations********\n",
      "1.Push\n",
      "2.pop\n",
      "3.peek\n",
      "4.size\n",
      "5.display\n",
      "6.quit\n",
      "enter your choice:2\n",
      "element poped= stack is empty\n",
      "******Stack operations********\n",
      "1.Push\n",
      "2.pop\n",
      "3.peek\n",
      "4.size\n",
      "5.display\n",
      "6.quit\n",
      "enter your choice:2\n",
      "element poped= stack is empty\n",
      "******Stack operations********\n",
      "1.Push\n",
      "2.pop\n",
      "3.peek\n",
      "4.size\n",
      "5.display\n",
      "6.quit\n"
     ]
    }
   ],
   "source": [
    "#**** Program of stack using list******\n",
    "\n",
    "class EmptyStackError(Exception):\n",
    "    pass\n",
    "class stack:\n",
    "    def __init__(self):\n",
    "        self.items=[]\n",
    "    def is_empty(self):\n",
    "        return self.items==[]\n",
    "    def size(self):\n",
    "        return len(self.items)\n",
    "    def push(self,item):\n",
    "        self.items.append(item)\n",
    "    def pop(self):\n",
    "        if self.is_empty():\n",
    "           # raise EmptyStackError(\"stack is empty\")\n",
    "            return(\"stack is empty\")\n",
    "        return self.items.pop()\n",
    "    def peek(self):\n",
    "        if self.is_empty():\n",
    "            #raise EmptyStackError(\"stack is empty\")\n",
    "            return(\"stack is empty\")\n",
    "        return self.items[-1]\n",
    "    def display(self):\n",
    "        print(self.items)\n",
    "\n",
    "st=stack()\n",
    "while(True):\n",
    "    print(\"******Stack operations********\")\n",
    "    print(\"1.Push\")\n",
    "    print(\"2.pop\")\n",
    "    print(\"3.peek\")\n",
    "    print(\"4.size\")\n",
    "    print(\"5.display\")\n",
    "    print(\"6.quit\")\n",
    "    ch=int(input(\"enter your choice:\"))\n",
    "    if ch==1:\n",
    "        p=int(input(\"enter element:\"))\n",
    "        st.push(p)\n",
    "    elif ch==2:\n",
    "        print(\"element poped=\",st.pop())\n",
    "    elif ch==3:\n",
    "        print(\"element at peek=\",st.peek())\n",
    "    elif ch==4:\n",
    "        print(\"size of stack=\",st.size())\n",
    "    elif ch==5:\n",
    "        st.display()\n",
    "    elif ch==6:\n",
    "        break\n",
    "    else:\n",
    "        print(\"choose appropriate option\")"
   ]
  },
  {
   "cell_type": "code",
   "execution_count": 4,
   "id": "7469e429",
   "metadata": {},
   "outputs": [
    {
     "name": "stdout",
     "output_type": "stream",
     "text": [
      "enter comma separated numbers:12,34,54,12,34\n",
      "enter the element to be searched:7\n",
      "element does not exist\n"
     ]
    }
   ],
   "source": [
    "#program for linear search\n",
    "def linearsearch(l,n):\n",
    "    for i in l:\n",
    "        if i==n:\n",
    "            return l.index(i)\n",
    "    return -1\n",
    "    \n",
    "l=[int(x) for x in input(\"enter comma separated numbers:\").split(\",\")]\n",
    "m=int(input(\"enter the element to be searched:\"))\n",
    "res=linearsearch(l,m)\n",
    "if res==-1:\n",
    "    print(\"element does not exist\")\n",
    "else:\n",
    "    print(\"element found at:{}\".format(res))"
   ]
  },
  {
   "cell_type": "code",
   "execution_count": 11,
   "id": "2793b61b",
   "metadata": {},
   "outputs": [
    {
     "name": "stdout",
     "output_type": "stream",
     "text": [
      "enter comma separated numbers:23,3,4,5,1,2\n",
      "[1, 2, 3, 4, 5, 23]\n",
      "enter the element to be searched:123\n",
      "element does not exist\n"
     ]
    }
   ],
   "source": [
    "#binary search using recursive approach\n",
    "def binarysearch(l,m,low,high):\n",
    "    if low<high:\n",
    "        mid=(low+high)//2 \n",
    "        if l[mid]==m:\n",
    "            return mid\n",
    "        elif l[mid]>m:\n",
    "            high=mid-1\n",
    "            return binarysearch(l,m,low,high)\n",
    "        else:\n",
    "            low=mid+1\n",
    "            return binarysearch(l,m,low,high)\n",
    "    return -1\n",
    "    \n",
    "l=[int(x) for x in input(\"enter comma separated numbers:\").split(\",\")]\n",
    "l.sort()\n",
    "print(l)\n",
    "m=int(input(\"enter the element to be searched:\"))\n",
    "low=0\n",
    "high=len(l)\n",
    "res=binarysearch(l,m,low,high)\n",
    "if res==-1:\n",
    "    print(\"element does not exist\")\n",
    "else:\n",
    "    print(\"element found at {}\".format(res))"
   ]
  },
  {
   "cell_type": "code",
   "execution_count": 13,
   "id": "24554fe5",
   "metadata": {},
   "outputs": [
    {
     "name": "stdout",
     "output_type": "stream",
     "text": [
      "enter comma separated numbers:23,4,3,2,1\n",
      "[1, 2, 3, 4, 23]\n"
     ]
    }
   ],
   "source": [
    "#program for bubble sort\n",
    "#this program is not efficient.....because though the elements get sorted after one or two passes but the inner loop will still continuous to compare the elements for all the remainig passes....hence o(n^2) time complexity..\n",
    "a=[int(x)for x in input(\"enter comma separated numbers:\").split(\",\")]\n",
    "n=len(a)\n",
    "for i in range(n-1): #this loop is for passes\n",
    "    #after every pass the largest element goes to last index\n",
    "    for j in range(n-i-1):#this loop is for itterations\n",
    "        if a[j]>a[j+1]:\n",
    "            a[j],a[j+1]=a[j+1],a[j]\n",
    "print(a)"
   ]
  },
  {
   "cell_type": "code",
   "execution_count": 17,
   "id": "f06ec665",
   "metadata": {},
   "outputs": [
    {
     "name": "stdout",
     "output_type": "stream",
     "text": [
      "enter comma separated numbers:23,4,5,6,2,1\n",
      "[1, 2, 4, 5, 6, 23]\n"
     ]
    }
   ],
   "source": [
    "#efficeint bubble sort algorithm \n",
    "# if the array is sorted after one or two itterations this will not enter into the inner for loop\n",
    "a=[int(x) for x in input(\"enter comma separated numbers:\").split(\",\")]\n",
    "n=len(a)\n",
    "for i in range(n-1):\n",
    "    swapped=False #if there is no swapping occurs in the the inner for loop then this variable remains false the we will break the loop and stop execution\n",
    "    for j in range(n-i-1):\n",
    "        if a[j]>a[j+1]: #if this condition does not occur then swapped variable remains as false then the next pass will not occur\n",
    "            a[j],a[j+1]=a[j+1],a[j]\n",
    "            swapped=True\n",
    "    if swapped==False: #(not swapped)\n",
    "        break\n",
    "print(a)"
   ]
  },
  {
   "cell_type": "code",
   "execution_count": 3,
   "id": "7e832345",
   "metadata": {},
   "outputs": [
    {
     "name": "stdout",
     "output_type": "stream",
     "text": [
      "enter comma separated numbers:23,4,5,1,2\n",
      "[1, 2, 4, 5, 23]\n"
     ]
    }
   ],
   "source": [
    "# insertion sort\n",
    "def insertion_sort(a):\n",
    "    l=len(a)\n",
    "    for i in range(1,l): #as assumed that first element is already in the sorted order\n",
    "        temp=a[i]\n",
    "        j=i-1 #to compare from first index\n",
    "        while j>=0 and temp<a[j]:\n",
    "            a[j+1]=a[j]\n",
    "            j=j-1\n",
    "        a[j+1]=temp\n",
    "    print(a)\n",
    "    \n",
    "a=[int(x)for x in input(\"enter comma separated numbers:\").split(\",\")]\n",
    "insertion_sort(a)"
   ]
  },
  {
   "cell_type": "code",
   "execution_count": 4,
   "id": "98ef1e1f",
   "metadata": {},
   "outputs": [
    {
     "name": "stdout",
     "output_type": "stream",
     "text": [
      "enter comma separated numbers:23,4,5,6,23,1\n",
      "[1, 4, 5, 6, 23, 23]\n"
     ]
    }
   ],
   "source": [
    "#selection sort\n",
    "#after every itteration the minimum element will be in the 0th index(lowest index)\n",
    "def selection_sort(a):\n",
    "    l=len(a)\n",
    "    for i in range(l-1):\n",
    "        min_index=i\n",
    "        for j in range(i+1,l):\n",
    "            if a[min_index]>a[j]:\n",
    "                min_index=j\n",
    "        a[min_index],a[i]=a[i],a[min_index]\n",
    "    print(a)\n",
    "                \n",
    "a=[int(x) for x in input(\"enter comma separated numbers:\").split(\",\")]\n",
    "selection_sort(a)"
   ]
  },
  {
   "cell_type": "code",
   "execution_count": null,
   "id": "a7749c59",
   "metadata": {},
   "outputs": [],
   "source": [
    "#program for merge sort\n",
    "def merge(a,l,mid,r):\n",
    "    p=a[l:mid+1]\n",
    "    q=a[mid+1:r]\n",
    "    k=i=j=0\n",
    "    while i<len(p) and j<len(q):\n",
    "        if p[i]<q[j]:\n",
    "            a[k]=p[i]\n",
    "            i+=1 \n",
    "        else:\n",
    "            a[k]=q[j]\n",
    "            j+=1\n",
    "        k+=1\n",
    "    while i<len(p):\n",
    "        a[k]=p[i]\n",
    "        i+=1\n",
    "        k+=1\n",
    "    while j<len(q):\n",
    "        a[k]=q[j]\n",
    "        j+=1\n",
    "        k+=1\n",
    "            \n",
    "            \n",
    "\n",
    "def merge_sort(a,l,r):\n",
    "    if l<=r:\n",
    "        mid=int((l+r)/2)\n",
    "        merge_sort(a,l,mid)\n",
    "        merge_sort(a,mid+1,r)\n",
    "        merge(a,l,mid,r)\n",
    "    return a\n",
    "\n",
    "a=[23,4,5,12,3,2,1]\n",
    "res=merge_sort(a,0,len(a)-1)\n",
    "print(res)"
   ]
  },
  {
   "cell_type": "code",
   "execution_count": null,
   "id": "c8c56e55",
   "metadata": {},
   "outputs": [],
   "source": [
    "#program for maximum contiguous subarray\n",
    "a=list(map(int,input(\"enter comma separated numbers:\").split(\",\")))\n",
    "dict_a={}\n",
    "for i in range(len(a)):\n",
    "    for j in range(1,len(a)+1):\n",
    "        dict_a[tuple(a[i:j])]=sum(a[i:j])\n",
    "        #print(dict_a.keys())\n",
    "keys=list(dict_a.keys())\n",
    "values=list(dict_a.values())\n",
    "maxi=max(values)\n",
    "max_index=values.index(maxi)\n",
    "res=keys[max_index]\n",
    "print(res)"
   ]
  },
  {
   "cell_type": "code",
   "execution_count": 4,
   "id": "28338919",
   "metadata": {},
   "outputs": [
    {
     "name": "stdout",
     "output_type": "stream",
     "text": [
      "raju plays cricket\n",
      "cricket plays\n",
      "cricket raju\n",
      "plays raju\n"
     ]
    }
   ],
   "source": [
    "#Given a  sentence as input...print all the unique combinations of two words in lexicographical order\n",
    "s=[str(x) for x in input().split()]\n",
    "s.sort()\n",
    "l=[]\n",
    "for i in range(len(s)):\n",
    "    p=\"\"\n",
    "    for j in range(i+1,len(s)):\n",
    "        p=s[i]+\" \"+s[j]\n",
    "        if p not in l:\n",
    "            print(p)\n",
    "        l.append(p)"
   ]
  },
  {
   "cell_type": "code",
   "execution_count": 8,
   "id": "d47b3e7c",
   "metadata": {},
   "outputs": [
    {
     "name": "stdout",
     "output_type": "stream",
     "text": [
      "3\n",
      "2\n"
     ]
    }
   ],
   "source": [
    "#fibanocci series of nth term\n",
    "def nth_term(n):\n",
    "    if n==0 or n==1:\n",
    "        return n\n",
    "    else:\n",
    "        return nth_term(n-1)+nth_term(n-2)\n",
    "    \n",
    "n=int(input())\n",
    "print(nth_term(n))"
   ]
  },
  {
   "cell_type": "code",
   "execution_count": 9,
   "id": "409305b5",
   "metadata": {},
   "outputs": [
    {
     "name": "stdout",
     "output_type": "stream",
     "text": [
      "enter how many fibonacci terms you want:10\n",
      "[0, 1, 1, 2, 3, 5, 8, 13, 21, 34]\n"
     ]
    }
   ],
   "source": [
    "#n terms in fibonacci series\n",
    "def nth_term(n):\n",
    "    if n==0 or n==1:\n",
    "        return n\n",
    "    else:\n",
    "        return nth_term(n-1)+nth_term(n-2)\n",
    "def get_nterms(m):\n",
    "    l=[]\n",
    "    for i in range(m):\n",
    "        l.append(nth_term(i))\n",
    "    return l\n",
    "\n",
    "p=int(input(\"enter how many fibonacci terms you want:\"))\n",
    "res=get_nterms(p)\n",
    "print(res)\n"
   ]
  },
  {
   "cell_type": "code",
   "execution_count": 11,
   "id": "8a1bc0ba",
   "metadata": {},
   "outputs": [
    {
     "ename": "KeyboardInterrupt",
     "evalue": "Interrupted by user",
     "output_type": "error",
     "traceback": [
      "\u001b[0;31m---------------------------------------------------------------------------\u001b[0m",
      "\u001b[0;31mKeyboardInterrupt\u001b[0m                         Traceback (most recent call last)",
      "Cell \u001b[0;32mIn [11], line 8\u001b[0m\n\u001b[1;32m      5\u001b[0m     \u001b[38;5;28;01melse\u001b[39;00m:\n\u001b[1;32m      6\u001b[0m         \u001b[38;5;28;01mreturn\u001b[39;00m nth_term(n\u001b[38;5;241m-\u001b[39m\u001b[38;5;241m1\u001b[39m)\u001b[38;5;241m+\u001b[39mnth_term(n\u001b[38;5;241m-\u001b[39m\u001b[38;5;241m2\u001b[39m)\n\u001b[0;32m----> 8\u001b[0m n\u001b[38;5;241m=\u001b[39m\u001b[38;5;28mint\u001b[39m(\u001b[38;5;28;43minput\u001b[39;49m\u001b[43m(\u001b[49m\u001b[43m)\u001b[49m)\n\u001b[1;32m      9\u001b[0m l\u001b[38;5;241m=\u001b[39m[]\n\u001b[1;32m     10\u001b[0m \u001b[38;5;28;01mfor\u001b[39;00m i \u001b[38;5;129;01min\u001b[39;00m \u001b[38;5;28mrange\u001b[39m(n):\n",
      "File \u001b[0;32m~/.local/lib/python3.8/site-packages/ipykernel/kernelbase.py:1177\u001b[0m, in \u001b[0;36mKernel.raw_input\u001b[0;34m(self, prompt)\u001b[0m\n\u001b[1;32m   1173\u001b[0m \u001b[38;5;28;01mif\u001b[39;00m \u001b[38;5;129;01mnot\u001b[39;00m \u001b[38;5;28mself\u001b[39m\u001b[38;5;241m.\u001b[39m_allow_stdin:\n\u001b[1;32m   1174\u001b[0m     \u001b[38;5;28;01mraise\u001b[39;00m StdinNotImplementedError(\n\u001b[1;32m   1175\u001b[0m         \u001b[38;5;124m\"\u001b[39m\u001b[38;5;124mraw_input was called, but this frontend does not support input requests.\u001b[39m\u001b[38;5;124m\"\u001b[39m\n\u001b[1;32m   1176\u001b[0m     )\n\u001b[0;32m-> 1177\u001b[0m \u001b[38;5;28;01mreturn\u001b[39;00m \u001b[38;5;28;43mself\u001b[39;49m\u001b[38;5;241;43m.\u001b[39;49m\u001b[43m_input_request\u001b[49m\u001b[43m(\u001b[49m\n\u001b[1;32m   1178\u001b[0m \u001b[43m    \u001b[49m\u001b[38;5;28;43mstr\u001b[39;49m\u001b[43m(\u001b[49m\u001b[43mprompt\u001b[49m\u001b[43m)\u001b[49m\u001b[43m,\u001b[49m\n\u001b[1;32m   1179\u001b[0m \u001b[43m    \u001b[49m\u001b[38;5;28;43mself\u001b[39;49m\u001b[38;5;241;43m.\u001b[39;49m\u001b[43m_parent_ident\u001b[49m\u001b[43m[\u001b[49m\u001b[38;5;124;43m\"\u001b[39;49m\u001b[38;5;124;43mshell\u001b[39;49m\u001b[38;5;124;43m\"\u001b[39;49m\u001b[43m]\u001b[49m\u001b[43m,\u001b[49m\n\u001b[1;32m   1180\u001b[0m \u001b[43m    \u001b[49m\u001b[38;5;28;43mself\u001b[39;49m\u001b[38;5;241;43m.\u001b[39;49m\u001b[43mget_parent\u001b[49m\u001b[43m(\u001b[49m\u001b[38;5;124;43m\"\u001b[39;49m\u001b[38;5;124;43mshell\u001b[39;49m\u001b[38;5;124;43m\"\u001b[39;49m\u001b[43m)\u001b[49m\u001b[43m,\u001b[49m\n\u001b[1;32m   1181\u001b[0m \u001b[43m    \u001b[49m\u001b[43mpassword\u001b[49m\u001b[38;5;241;43m=\u001b[39;49m\u001b[38;5;28;43;01mFalse\u001b[39;49;00m\u001b[43m,\u001b[49m\n\u001b[1;32m   1182\u001b[0m \u001b[43m\u001b[49m\u001b[43m)\u001b[49m\n",
      "File \u001b[0;32m~/.local/lib/python3.8/site-packages/ipykernel/kernelbase.py:1219\u001b[0m, in \u001b[0;36mKernel._input_request\u001b[0;34m(self, prompt, ident, parent, password)\u001b[0m\n\u001b[1;32m   1216\u001b[0m             \u001b[38;5;28;01mbreak\u001b[39;00m\n\u001b[1;32m   1217\u001b[0m \u001b[38;5;28;01mexcept\u001b[39;00m \u001b[38;5;167;01mKeyboardInterrupt\u001b[39;00m:\n\u001b[1;32m   1218\u001b[0m     \u001b[38;5;66;03m# re-raise KeyboardInterrupt, to truncate traceback\u001b[39;00m\n\u001b[0;32m-> 1219\u001b[0m     \u001b[38;5;28;01mraise\u001b[39;00m \u001b[38;5;167;01mKeyboardInterrupt\u001b[39;00m(\u001b[38;5;124m\"\u001b[39m\u001b[38;5;124mInterrupted by user\u001b[39m\u001b[38;5;124m\"\u001b[39m) \u001b[38;5;28;01mfrom\u001b[39;00m \u001b[38;5;28mNone\u001b[39m\n\u001b[1;32m   1220\u001b[0m \u001b[38;5;28;01mexcept\u001b[39;00m \u001b[38;5;167;01mException\u001b[39;00m:\n\u001b[1;32m   1221\u001b[0m     \u001b[38;5;28mself\u001b[39m\u001b[38;5;241m.\u001b[39mlog\u001b[38;5;241m.\u001b[39mwarning(\u001b[38;5;124m\"\u001b[39m\u001b[38;5;124mInvalid Message:\u001b[39m\u001b[38;5;124m\"\u001b[39m, exc_info\u001b[38;5;241m=\u001b[39m\u001b[38;5;28;01mTrue\u001b[39;00m)\n",
      "\u001b[0;31mKeyboardInterrupt\u001b[0m: Interrupted by user"
     ]
    }
   ],
   "source": [
    "#fibonacci series of n terms\n",
    "def nth_term(n):\n",
    "    if n==0 or n==1:\n",
    "        return n\n",
    "    else:\n",
    "        return nth_term(n-1)+nth_term(n-2)\n",
    "    \n",
    "n=int(input())\n",
    "l=[]\n",
    "for i in range(n):\n",
    "    l.append(nth_term(i))\n",
    "print(l)\n",
    "    "
   ]
  },
  {
   "cell_type": "code",
   "execution_count": 13,
   "id": "d0292beb",
   "metadata": {},
   "outputs": [
    {
     "name": "stdout",
     "output_type": "stream",
     "text": [
      "enter upto which term:10\n",
      "0 1 1 2 3 5 8 13 21 34 "
     ]
    }
   ],
   "source": [
    "#fibonacci series upto nth term\n",
    "def fibo(n):\n",
    "        a=0\n",
    "        b=1\n",
    "        print(a,b,end=\" \")\n",
    "        for i in range(2,n):\n",
    "            c=a+b\n",
    "            print(c,end=\" \")\n",
    "            a=b\n",
    "            b=c\n",
    "    \n",
    "n=int(input(\"enter upto which term:\"))\n",
    "fibo(n)\n"
   ]
  },
  {
   "cell_type": "code",
   "execution_count": 21,
   "id": "1629f6a4",
   "metadata": {},
   "outputs": [
    {
     "name": "stdout",
     "output_type": "stream",
     "text": [
      "-4,-3,-2,-1,0,1,2,3,4,5,6\n",
      "-1\n",
      "(-3, 2)\n",
      "(-2, 1)\n",
      "(-1, 0)\n",
      "(-4, 3)\n"
     ]
    }
   ],
   "source": [
    "#all unique pairs whose sum is k\n",
    "def find_k_sum(l,k):\n",
    "    n=len(l)\n",
    "    p=[]\n",
    "    for i in range(n):\n",
    "        for j in range(i+1,n):\n",
    "            if l[i]+l[j]==k:\n",
    "                p.append((l[i],l[j]))\n",
    "    x=set(p)\n",
    "    for i in x:\n",
    "        print(i)\n",
    "    \n",
    "l=[int(x)for x in input().split(\",\")]\n",
    "l.sort()\n",
    "k=int(input())\n",
    "find_k_sum(l,k)\n"
   ]
  },
  {
   "cell_type": "code",
   "execution_count": null,
   "id": "88b25a81",
   "metadata": {},
   "outputs": [],
   "source": [
    "#program to print the list by rotating d times to the left\n",
    "l=[int(x)for x in input().split()]\n",
    "d=int(input())\n",
    "p=d%len(l)\n",
    "res=l[p:]+l[:p]\n",
    "print(res)"
   ]
  },
  {
   "cell_type": "code",
   "execution_count": 3,
   "id": "6a2fcdd1",
   "metadata": {},
   "outputs": [
    {
     "name": "stdout",
     "output_type": "stream",
     "text": [
      "[1, 2, 3, 4, 7, 12, 67, 434]\n"
     ]
    }
   ],
   "source": [
    "#program for quick sort\n",
    "def quicksort(arr,left,right):\n",
    "    if left<right:\n",
    "        partition_pos=partition(arr,left,right)\n",
    "        quicksort(arr,left,partition_pos-1)\n",
    "        quicksort(arr,partition_pos+1,right)\n",
    "    return arr\n",
    "\n",
    "def partition(arr,left,right):\n",
    "    i=left\n",
    "    j=right-1\n",
    "    pivot=arr[right]\n",
    "    while i<j:\n",
    "        while i<right and arr[i]<pivot:\n",
    "            i+=1\n",
    "        while j>left and arr[j]>=pivot:\n",
    "            j-=1\n",
    "        if i<j:\n",
    "            arr[i],arr[j]=arr[j],arr[i]\n",
    "    if arr[i]>pivot:\n",
    "        arr[i],arr[right]=arr[right],arr[i]\n",
    "    return i\n",
    "\n",
    "arr=[12,2,3,434,67,7,1,4]\n",
    "res=quicksort(arr,0,len(arr)-1)\n",
    "print(res)"
   ]
  },
  {
   "cell_type": "code",
   "execution_count": 3,
   "id": "f6da27d1",
   "metadata": {},
   "outputs": [
    {
     "name": "stdout",
     "output_type": "stream",
     "text": [
      "enter expression:{{[]}}\n",
      "balanced\n"
     ]
    }
   ],
   "source": [
    "#program for paranthesis checker\n",
    "def isbalanced(expr):\n",
    "    stack=[]\n",
    "    for char in expr:\n",
    "        if char in ['(','[','{']:\n",
    "            stack.append(char)\n",
    "        else:\n",
    "            if not stack:\n",
    "                return False\n",
    "            current_char=stack.pop()\n",
    "            if current_char=='(':\n",
    "                if char!=')':\n",
    "                    return False\n",
    "            if current_char=='{':\n",
    "                if char!='}':\n",
    "                    return False\n",
    "            if current_char=='[':\n",
    "                if char!=']':\n",
    "                    return False\n",
    "    if stack:\n",
    "        return False\n",
    "    else:\n",
    "        return True\n",
    "\n",
    "expression=input(\"enter expression:\")\n",
    "if(isbalanced(expression)):\n",
    "    print(\"balanced\")\n",
    "else:\n",
    "    print(\"not balanced\")"
   ]
  },
  {
   "cell_type": "code",
   "execution_count": 3,
   "id": "c0031f76",
   "metadata": {},
   "outputs": [
    {
     "ename": "TypeError",
     "evalue": "push_data() missing 1 required positional argument: 'data'",
     "output_type": "error",
     "traceback": [
      "\u001b[0;31m---------------------------------------------------------------------------\u001b[0m",
      "\u001b[0;31mTypeError\u001b[0m                                 Traceback (most recent call last)",
      "Cell \u001b[0;32mIn [3], line 29\u001b[0m\n\u001b[1;32m     27\u001b[0m \u001b[38;5;66;03m#main program\u001b[39;00m\n\u001b[1;32m     28\u001b[0m ss\u001b[38;5;241m=\u001b[39mstack()\n\u001b[0;32m---> 29\u001b[0m \u001b[43mss\u001b[49m\u001b[38;5;241;43m.\u001b[39;49m\u001b[43mpush_data\u001b[49m\u001b[43m(\u001b[49m\u001b[43m)\u001b[49m\n\u001b[1;32m     30\u001b[0m ss\u001b[38;5;241m.\u001b[39mpush_data(\u001b[38;5;241m10\u001b[39m)\n\u001b[1;32m     31\u001b[0m ss\u001b[38;5;241m.\u001b[39mpush_data(\u001b[38;5;241m10\u001b[39m)\n",
      "\u001b[0;31mTypeError\u001b[0m: push_data() missing 1 required positional argument: 'data'"
     ]
    }
   ],
   "source": [
    "#program for stack using single linkedlist\n",
    "class Node:\n",
    "    def __int__(self,data):\n",
    "        self.data=data\n",
    "        self.next=None\n",
    "class stack:\n",
    "    def __init__(self):\n",
    "        self.head=None\n",
    "        \n",
    "    def push_data(self,data):\n",
    "        newnode=Node(data)\n",
    "        if self.head is None:\n",
    "            self.head=newnode\n",
    "        else:\n",
    "            newnode.next=self.head\n",
    "            self.head=newnode\n",
    "    def pop_data(self):\n",
    "        if self.head is none:\n",
    "            return \"Underflow\"\n",
    "        else:\n",
    "            self.head=self.head.next\n",
    "    def display(self):\n",
    "        temp=self.head\n",
    "        while temp.data!=None:\n",
    "            print(temp.data,sep=\"-->\",end=\"\")\n",
    "            temp=temp.next\n",
    "#main program\n",
    "ss=stack()\n",
    "ss.push_data(40)\n",
    "ss.push_data(30)\n",
    "ss.push_data(10)"
   ]
  },
  {
   "cell_type": "code",
   "execution_count": 7,
   "id": "547af4fc",
   "metadata": {},
   "outputs": [
    {
     "name": "stdout",
     "output_type": "stream",
     "text": [
      "enter expression:(a+()}\n",
      "invalid\n"
     ]
    }
   ],
   "source": [
    "#program for paranthesis checker\n",
    "def paranthesis_check(s):\n",
    "    stack=[]\n",
    "    flag=1\n",
    "    for i in range(len(s)):\n",
    "        if (s[i]=='{' or s[i]=='[' or s[i]=='('):\n",
    "            stack.append(s[i])\n",
    "        if (s[i]=='}' or s[i]==']' or s[i]==')'):\n",
    "            if not stack:\n",
    "                flag=0\n",
    "            else:\n",
    "                temp=stack.pop()\n",
    "                if (s[i]==')' and (temp=='{' or temp=='[')):\n",
    "                    flag=0\n",
    "                if (s[i]==']' and (temp=='(' or temp=='{')):\n",
    "                    flag=0\n",
    "                if (s[i]=='}' and (temp=='(' or temp=='[')):\n",
    "                    flag=0\n",
    "    if stack:\n",
    "        flag=0\n",
    "    if flag==0:\n",
    "        return \"invalid\"\n",
    "    else:\n",
    "        return \"valid\"\n",
    "                    \n",
    "s=input(\"enter expression:\")\n",
    "print(paranthesis_check(s))"
   ]
  },
  {
   "cell_type": "code",
   "execution_count": null,
   "id": "b5fc6749",
   "metadata": {},
   "outputs": [],
   "source": [
    "#program for infix to postfix conversion\n",
    "operators=['+','-','*','/','*','%','(',')']\n",
    "priority={'+':1,'-':1,'*':2,'/':2,'%':2,'^':3}\n",
    "def infix_to_postfix(expr):\n",
    "    stack=[]\n",
    "    output=\"\"\n",
    "    for char in expr:\n",
    "        if 'a'<=char<='z' or 'A'<=char<='Z':\n",
    "            output+=char\n",
    "        elif char=='(':\n",
    "            stack.append('(')\n",
    "        elif char==')':\n",
    "            while stack and stack[-1]!='(':\n",
    "                output+=stack.pop()\n",
    "            stack.pop()\n",
    "        else:\n",
    "            while stack and stack[-1]!='(' and priority[char]<=priority[stack[-1]]:\n",
    "                output+=stack.pop()\n",
    "            stack.append(char)\n",
    "    while stack:\n",
    "        output+=stack.pop()\n",
    "    return output\n",
    "\n",
    "expr=input(\"enter expression:\")\n",
    "res=infix_to_postfix(expr)\n",
    "print(res) "
   ]
  },
  {
   "cell_type": "code",
   "execution_count": null,
   "id": "c5dde935",
   "metadata": {},
   "outputs": [],
   "source": []
  }
 ],
 "metadata": {
  "kernelspec": {
   "display_name": "Python 3 (ipykernel)",
   "language": "python",
   "name": "python3"
  },
  "language_info": {
   "codemirror_mode": {
    "name": "ipython",
    "version": 3
   },
   "file_extension": ".py",
   "mimetype": "text/x-python",
   "name": "python",
   "nbconvert_exporter": "python",
   "pygments_lexer": "ipython3",
   "version": "3.8.10"
  }
 },
 "nbformat": 4,
 "nbformat_minor": 5
}
